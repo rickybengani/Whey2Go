{
 "cells": [
  {
   "cell_type": "code",
   "execution_count": 1,
   "metadata": {
    "id": "vmybMRgYgXfs"
   },
   "outputs": [],
   "source": [
    "# Raw Interactions: User-id, Recipe-id, Rating Given, Date of Interaction\n",
    "\n",
    "# (Recipe id, User Id) = recipe rating given by user"
   ]
  },
  {
   "cell_type": "code",
   "execution_count": 2,
   "metadata": {
    "id": "sc4TAqQegXgI",
    "outputId": "cde5d448-7976-43a2-e000-6fb60a151a01"
   },
   "outputs": [
    {
     "data": {
      "text/html": [
       "<div>\n",
       "<style scoped>\n",
       "    .dataframe tbody tr th:only-of-type {\n",
       "        vertical-align: middle;\n",
       "    }\n",
       "\n",
       "    .dataframe tbody tr th {\n",
       "        vertical-align: top;\n",
       "    }\n",
       "\n",
       "    .dataframe thead th {\n",
       "        text-align: right;\n",
       "    }\n",
       "</style>\n",
       "<table border=\"1\" class=\"dataframe\">\n",
       "  <thead>\n",
       "    <tr style=\"text-align: right;\">\n",
       "      <th></th>\n",
       "      <th>UserID</th>\n",
       "      <th>RecipeID</th>\n",
       "      <th>Date</th>\n",
       "      <th>Rating</th>\n",
       "      <th>u</th>\n",
       "      <th>i</th>\n",
       "    </tr>\n",
       "  </thead>\n",
       "  <tbody>\n",
       "    <tr>\n",
       "      <th>0</th>\n",
       "      <td>2046</td>\n",
       "      <td>4684</td>\n",
       "      <td>2000-02-25</td>\n",
       "      <td>5.0</td>\n",
       "      <td>22095</td>\n",
       "      <td>44367</td>\n",
       "    </tr>\n",
       "    <tr>\n",
       "      <th>1</th>\n",
       "      <td>2046</td>\n",
       "      <td>517</td>\n",
       "      <td>2000-02-25</td>\n",
       "      <td>5.0</td>\n",
       "      <td>22095</td>\n",
       "      <td>87844</td>\n",
       "    </tr>\n",
       "    <tr>\n",
       "      <th>2</th>\n",
       "      <td>1773</td>\n",
       "      <td>7435</td>\n",
       "      <td>2000-03-13</td>\n",
       "      <td>5.0</td>\n",
       "      <td>24732</td>\n",
       "      <td>138181</td>\n",
       "    </tr>\n",
       "    <tr>\n",
       "      <th>3</th>\n",
       "      <td>1773</td>\n",
       "      <td>278</td>\n",
       "      <td>2000-03-13</td>\n",
       "      <td>4.0</td>\n",
       "      <td>24732</td>\n",
       "      <td>93054</td>\n",
       "    </tr>\n",
       "    <tr>\n",
       "      <th>4</th>\n",
       "      <td>2046</td>\n",
       "      <td>3431</td>\n",
       "      <td>2000-04-07</td>\n",
       "      <td>5.0</td>\n",
       "      <td>22095</td>\n",
       "      <td>101723</td>\n",
       "    </tr>\n",
       "  </tbody>\n",
       "</table>\n",
       "</div>"
      ],
      "text/plain": [
       "   UserID  RecipeID        Date  Rating      u       i\n",
       "0    2046      4684  2000-02-25     5.0  22095   44367\n",
       "1    2046       517  2000-02-25     5.0  22095   87844\n",
       "2    1773      7435  2000-03-13     5.0  24732  138181\n",
       "3    1773       278  2000-03-13     4.0  24732   93054\n",
       "4    2046      3431  2000-04-07     5.0  22095  101723"
      ]
     },
     "execution_count": 2,
     "metadata": {},
     "output_type": "execute_result"
    }
   ],
   "source": [
    "import pandas as pd\n",
    "\n",
    "data_df = pd.read_csv('./interactions_train.csv', sep=',', skiprows=[0], engine='python', names=[\"UserID\", \"RecipeID\", \"Date\", \"Rating\", \"u\", \"i\"])\n",
    "data_df.head()"
   ]
  },
  {
   "cell_type": "code",
   "execution_count": 3,
   "metadata": {
    "id": "STok7HXzgXgK",
    "outputId": "88b13ea9-6f02-44a1-ff08-45bcc8ae9f5b"
   },
   "outputs": [
    {
     "name": "stdout",
     "output_type": "stream",
     "text": [
      "recipe num = 160901\n",
      "user num = 25076\n",
      "rating num = 698901\n"
     ]
    }
   ],
   "source": [
    "print('recipe num = ' + str(len(data_df['RecipeID'].unique())))\n",
    "print('user num = ' + str(len(data_df['UserID'].unique())))\n",
    "print('rating num = ' + str(len(data_df)))"
   ]
  },
  {
   "cell_type": "code",
   "execution_count": 4,
   "metadata": {
    "id": "04J2KWKTgXgL"
   },
   "outputs": [],
   "source": [
    "import pandas as pd\n",
    "import numpy as np\n",
    "from scipy.sparse import coo_matrix\n",
    "\n",
    "# First, generate dictionaries for mapping old id to new id for users and recipes\n",
    "unique_RecipeID = data_df['RecipeID'].unique()\n",
    "unique_UserID = data_df['UserID'].unique()\n",
    "j = 0\n",
    "user_old2new_id_dict = dict()\n",
    "for u in unique_UserID:\n",
    "    user_old2new_id_dict[u] = j\n",
    "    j += 1\n",
    "j = 0\n",
    "recipe_old2new_id_dict = dict()\n",
    "for i in unique_RecipeID:\n",
    "    recipe_old2new_id_dict[i] = j\n",
    "    j += 1\n",
    "    \n",
    "# Then, use the generated dictionaries to reindex UserID and RecipeID in the data_df\n",
    "for j in range(len(data_df)):\n",
    "    data_df.at[j, 'UserID'] = user_old2new_id_dict[data_df.at[j, 'UserID']]\n",
    "    data_df.at[j, 'RecipeID'] = recipe_old2new_id_dict[data_df.at[j, 'RecipeID']]\n"
   ]
  },
  {
   "cell_type": "code",
   "execution_count": 5,
   "metadata": {
    "id": "oO3kFJC1gXgL"
   },
   "outputs": [],
   "source": [
    "from scipy.sparse import coo_matrix\n",
    "data_df = data_df[0:250000]\n",
    "num_user = len(data_df['UserID'].unique())\n",
    "num_recipe = len(data_df['RecipeID'].unique())\n",
    "\n",
    "train_mat = coo_matrix((data_df['Rating'].values, (data_df['UserID'].values, data_df['RecipeID'].values)), shape=(num_user, num_recipe)).toarray().astype(float)"
   ]
  },
  {
   "cell_type": "code",
   "execution_count": 6,
   "metadata": {
    "id": "f1QUtfnbgXgM",
    "outputId": "0bc51c11-16ab-4c0e-e791-589dba445dab"
   },
   "outputs": [
    {
     "name": "stdout",
     "output_type": "stream",
     "text": [
      "[18  1 11 ...  1  1  1]\n"
     ]
    }
   ],
   "source": [
    "# find number of ratings for each recipe\n",
    "num_ratings_recipe = np.count_nonzero(train_mat > 0, axis=0)\n",
    "print(num_ratings_recipe)"
   ]
  },
  {
   "cell_type": "code",
   "execution_count": 7,
   "metadata": {
    "id": "Q2tgPzqqgXgM"
   },
   "outputs": [],
   "source": [
    "# find sum of ratings for each recipe\n",
    "ratings_sum = train_mat.sum(axis=0)"
   ]
  },
  {
   "cell_type": "code",
   "execution_count": 8,
   "metadata": {
    "id": "LEHLh8AbgXgN"
   },
   "outputs": [],
   "source": [
    "# find weighted average for each recipe\n",
    "weighted_averages = ratings_sum * num_ratings_recipe\n",
    "# sort the recipes by weighted average and generate top k list of recipes\n",
    "top_recipes = sorted(range(len(weighted_averages)), key=lambda i: weighted_averages[i])[-num_recipe:]\n",
    "top_recipes_indices = top_recipes[::-1]"
   ]
  },
  {
   "cell_type": "code",
   "execution_count": 9,
   "metadata": {
    "id": "OKMtHdI8gXgN"
   },
   "outputs": [],
   "source": [
    "recipes_df = pd.read_csv('./RAW_recipes.csv', sep=',', skiprows=[0], engine='python', names=[\"RecipeName\", \"RecipeID\", \"Minutes\", \"ContributorId\", \"Submitted\", \"Tags\", \"Nutrition\", \"N-steps\", \"Steps\", \"Description\",\"Ingredients\", \"N-ingredients\"])"
   ]
  },
  {
   "cell_type": "code",
   "execution_count": 10,
   "metadata": {
    "id": "TBZBjlJsgXgN"
   },
   "outputs": [],
   "source": [
    "# put all names of recipes in a list\n",
    "all_recipes = []\n",
    "for index, row in recipes_df.iterrows():\n",
    "    recipeName = row.RecipeName\n",
    "    all_recipes.append(recipeName)"
   ]
  },
  {
   "cell_type": "code",
   "execution_count": 11,
   "metadata": {
    "id": "TrY6VvWPgXgO"
   },
   "outputs": [],
   "source": [
    "# find and create a list for the top k list recipe names\n",
    "top_recipes_names = []\n",
    "for recipe_id in top_recipes_indices:\n",
    "    recipeName = recipes_df.loc[recipes_df['RecipeID'] == recipe_id].RecipeName.values\n",
    "    recipeName = recipeName.tolist()\n",
    "    top_recipes_names.append(recipeName)"
   ]
  },
  {
   "cell_type": "code",
   "execution_count": 12,
   "metadata": {
    "id": "yYpqqjJTgXgO"
   },
   "outputs": [],
   "source": [
    "# generate non-personalized top-k lists for each category\n",
    "top_beginner_friendly = []\n",
    "top_vegetarian = []\n",
    "top_healthy = []\n",
    "top_vegan = []\n",
    "top_desserts = []\n",
    "top_asian = []\n",
    "top_indian = []\n",
    "top_15minutes = []\n",
    "top_diabetic = []\n",
    "top_lactose = []\n",
    "top_breakfast = []\n",
    "top_lunch = []\n",
    "top_snacks = []\n",
    "top_nutfree = []\n",
    "top_ramadan = []\n",
    "top_dairy_free = []\n",
    "\n",
    "for recipe_id in top_recipes_indices:\n",
    "    row = recipes_df.loc[recipes_df['RecipeID'] == recipe_id]\n",
    "    tag = row.Tags.values\n",
    "    name = row.RecipeName.values\n",
    "    if len(tag) > 0:\n",
    "        if 'easy' in tag[0]:\n",
    "            top_beginner_friendly.append(name[0])\n",
    "        if 'vegetarian' in tag[0]:\n",
    "            top_vegetarian.append(name[0])\n",
    "        if 'healthy' in tag[0]:\n",
    "            top_healthy.append(name[0])\n",
    "        if 'vegan' in tag[0]:\n",
    "            top_vegan.append(name[0])\n",
    "        if 'desserts' in tag[0]:\n",
    "            top_desserts.append(name[0])\n",
    "        if 'indian' in tag[0]:\n",
    "            top_indian.append(name[0])\n",
    "        if 'asian' in tag[0]:\n",
    "            top_asian.append(name[0])\n",
    "        if '15-minutes-or-less' in tag[0]:\n",
    "            top_15minutes.append(name[0])\n",
    "        if 'lactose' in tag[0]:\n",
    "            top_lactose.append(name[0])\n",
    "        if 'diabetic' in tag[0]:\n",
    "            top_diabetic.append(name[0])"
   ]
  },
  {
   "cell_type": "code",
   "execution_count": 13,
   "metadata": {
    "id": "onVRSvSZgXgP"
   },
   "outputs": [],
   "source": [
    "# output to file \n",
    "# name of csv file \n",
    "import csv\n",
    "fields = ['RecipeID', 'RecipeName']\n",
    "filename = \"top_recipes.csv\"\n",
    "    \n",
    "# writing to csv file \n",
    "with open(filename, 'w') as csvfile:\n",
    "    # creating a csv writer object \n",
    "    csvwriter = csv.writer(csvfile) \n",
    "    # writing the fields \n",
    "    csvwriter.writerow(fields) \n",
    "    rows = []\n",
    "    for index, recipe in enumerate(top_recipes_names):\n",
    "        if len(recipe) > 0:\n",
    "            # writing the data rows\n",
    "            rows.append([top_recipes_indices[index], recipe[0]])\n",
    "    csvwriter.writerows(rows)"
   ]
  },
  {
   "cell_type": "code",
   "execution_count": 14,
   "metadata": {
    "id": "bpVU64atgXgP"
   },
   "outputs": [],
   "source": [
    "recipes_df[\"Tags\"] = recipes_df[\"Tags\"].apply(eval)"
   ]
  },
  {
   "cell_type": "code",
   "execution_count": 15,
   "metadata": {
    "id": "FGQqg4QAgXgV",
    "outputId": "0dbf5cbd-7c51-4893-e90a-162e3e11bfb2",
    "scrolled": true
   },
   "outputs": [
    {
     "name": "stdout",
     "output_type": "stream",
     "text": [
      "552\n"
     ]
    }
   ],
   "source": [
    "# put all tags inside a list\n",
    "tags_list =[]\n",
    "for index, row in recipes_df.iterrows():\n",
    "    tags = row[\"Tags\"]\n",
    "    for tag in tags:\n",
    "        if tag not in tags_list:\n",
    "            tags_list.append(tag)\n",
    "print(len(tags_list))"
   ]
  },
  {
   "cell_type": "code",
   "execution_count": 16,
   "metadata": {
    "id": "Fc-U-r7xgXgW"
   },
   "outputs": [],
   "source": [
    "# First, generate dictionaries for mapping old id to new id for users and recipes\n",
    "unique_RecipeID = recipes_df['RecipeID'].unique()\n",
    "j = 0\n",
    "recipe_old2new_id_dict = dict()\n",
    "for i in unique_RecipeID:\n",
    "    recipe_old2new_id_dict[i] = j\n",
    "    j += 1\n",
    "    \n",
    "# Then, use the generated dictionaries to reindex UserID and RecipeID in the data_df\n",
    "for j in range(len(recipes_df)):\n",
    "    recipes_df.at[j, 'RecipeID'] = recipe_old2new_id_dict[recipes_df.at[j, 'RecipeID']]"
   ]
  },
  {
   "cell_type": "code",
   "execution_count": 17,
   "metadata": {
    "id": "Wgu1jbj2gXgW"
   },
   "outputs": [],
   "source": [
    "# generate tag list for first 10k recipes\n",
    "recipes_df = recipes_df[0:10000]\n",
    "recipe_tag_list = []\n",
    "for index, row in recipes_df.iterrows():\n",
    "    current_tags = row['Tags']\n",
    "    tags_present = []\n",
    "    if len(current_tags) > 0:\n",
    "        for tag in tags_list:\n",
    "            if tag in current_tags:\n",
    "                tags_present.append(1)\n",
    "            else:\n",
    "                tags_present.append(0)\n",
    "    else:\n",
    "        tags_present = [0] * len(tags_list)\n",
    "    recipe_tag_list.append(tags_present)"
   ]
  },
  {
   "cell_type": "code",
   "execution_count": 18,
   "metadata": {
    "id": "-jPs_-qGgXgX"
   },
   "outputs": [],
   "source": [
    " recipe_tag_mat = np.array(recipe_tag_list) # (row, tag)"
   ]
  },
  {
   "cell_type": "code",
   "execution_count": 19,
   "metadata": {
    "id": "FY2mArQbgXgX"
   },
   "outputs": [],
   "source": [
    "# generate a (recipe, tags) matrix with size (10k, 552)\n",
    "\n",
    "# binary matrix to indicate whether there is a rating for a user-movie pair\n",
    "indicator_mat = (recipe_tag_mat > 0).astype(float)  # size = (#user, #movie)  \n",
    "\n",
    "# calculate the number of ratings for each user\n",
    "num_rating_per_recipe = np.sum(indicator_mat, axis=1, keepdims=True)  # size = (#user, 1)  \n",
    "\n",
    "# calculate the numerator of Jaccard similarity: for two users, calculate the number of movies both of they rated\n",
    "numerator = np.matmul(indicator_mat, indicator_mat.T)  # size = (#user, #user)\n",
    "\n",
    "# calculate the denominator of Jaccard similarity: for two users, calculate the number of movies they rated in total\n",
    "denominator = num_rating_per_recipe + num_rating_per_recipe.T - numerator  # size = (#user, #user)\n",
    "\n",
    "# set 0 to be 1 to avoid error in division \n",
    "denominator[denominator == 0] = 1\n",
    "num_recipe = len(recipes_df)\n",
    "# calculate Jaccard similarity matrix\n",
    "Jaccard_mat = numerator / denominator  # size = (#user, #user)\n",
    "prediction_mat = recipe_tag_mat.copy()\n",
    "num_rating_recipe = np.sum(indicator_mat, axis=1, keepdims=True)\n",
    "num_rating_recipe[num_rating_recipe == 0] = 1\n",
    "mu_recipe = np.sum(recipe_tag_mat, axis=1, keepdims=True) / num_rating_recipe\n",
    "deviation_mat = (recipe_tag_mat - mu_recipe) * indicator_mat\n",
    "prediction_mat = []\n",
    "for u in range(num_recipe):\n",
    "    similarities = Jaccard_mat[u, :]\n",
    "    similarities[u] = -1\n",
    "    N_idx = np.argpartition(similarities, -10)[-10:]\n",
    "    prediction_mat.append(N_idx)"
   ]
  },
  {
   "cell_type": "code",
   "execution_count": 20,
   "metadata": {
    "id": "pIIM3KowgXga"
   },
   "outputs": [],
   "source": [
    "# generate a list of top 10 neighbor names for each recipe\n",
    "item_neighbors = []\n",
    "for index, prediction in enumerate(prediction_mat):\n",
    "    res_list = [top_recipes_names[i] for i in prediction_mat[index]]\n",
    "    item_neighbors.append(res_list)"
   ]
  },
  {
   "cell_type": "code",
   "execution_count": 21,
   "metadata": {
    "id": "7hgj6MO0gXga",
    "outputId": "b1b686c5-9790-4742-8009-fd936a354958"
   },
   "outputs": [
    {
     "name": "stdout",
     "output_type": "stream",
     "text": [
      "10000\n"
     ]
    }
   ],
   "source": [
    "print(len(item_neighbors))"
   ]
  },
  {
   "cell_type": "code",
   "execution_count": 22,
   "metadata": {
    "id": "9YBoyeYbgXgb"
   },
   "outputs": [],
   "source": [
    "# writing to csv file \n",
    "fields = ['Recipe', '1', '2', '3', '4', '5', '6', '7', '8', '9', '10']\n",
    "filename = \"personalized.csv\"\n",
    "with open(filename, 'w') as csvfile:\n",
    "    # creating a csv writer object \n",
    "    csvwriter = csv.writer(csvfile) \n",
    "    # writing the fields \n",
    "    csvwriter.writerow(fields) \n",
    "    rows = []\n",
    "    for index, recipe in enumerate(all_recipes[0:10000]):\n",
    "        # only include recipes with a name\n",
    "        recipe = {index: recipe}\n",
    "        neighbors = item_neighbors[index]  \n",
    "        flat_list = []\n",
    "        for neighbor in neighbors:\n",
    "            if len(neighbor) > 0:\n",
    "                flat_list.append(neighbor[0])\n",
    "            else:\n",
    "                flat_list.append(\"\")\n",
    "        rows.append([recipe, flat_list[0], flat_list[1], flat_list[2], flat_list[3], flat_list[4], flat_list[5]\n",
    "                    , flat_list[6], flat_list[7], flat_list[8], flat_list[9]])\n",
    "    csvwriter.writerows(rows)"
   ]
  }
 ],
 "metadata": {
  "colab": {
   "name": "Whey2Go-Copy1.ipynb",
   "provenance": []
  },
  "kernelspec": {
   "display_name": "Python 3",
   "language": "python",
   "name": "python3"
  },
  "language_info": {
   "codemirror_mode": {
    "name": "ipython",
    "version": 3
   },
   "file_extension": ".py",
   "mimetype": "text/x-python",
   "name": "python",
   "nbconvert_exporter": "python",
   "pygments_lexer": "ipython3",
   "version": "3.8.5"
  }
 },
 "nbformat": 4,
 "nbformat_minor": 1
}
